{
 "cells": [
  {
   "cell_type": "code",
   "execution_count": 1,
   "metadata": {},
   "outputs": [],
   "source": [
    "import plotly.plotly as py\n",
    "from plotly import tools\n",
    "import numpy as np\n",
    "from plotly.graph_objs import *\n",
    "import plotly.graph_objs as go\n",
    "import math\n"
   ]
  },
  {
   "cell_type": "code",
   "execution_count": 2,
   "metadata": {
    "collapsed": true
   },
   "outputs": [],
   "source": [
    "\n",
    "def walsh_percent_effect_remaining_at_time(time, action_duration):\n",
    "#     if t <= 0:\n",
    "#         return 1\n",
    "#     elif t >= action_duration:\n",
    "#         return 0\n",
    "    \n",
    "    nearest_modeled_duration = None\n",
    "   \n",
    "    if action_duration < 3:\n",
    "        nearest_modeled_duration = 3\n",
    "    elif action_duration > 6:\n",
    "        nearest_modeled_duration = 6\n",
    "    else: \n",
    "        nearest_modeled_duration = round(action_duration)\n",
    "    \n",
    "    minutes = (time*60) * nearest_modeled_duration / action_duration\n",
    "    \n",
    "    if nearest_modeled_duration == 3:\n",
    "        return -3.2030e-9 * pow(minutes, 4) + 1.354e-6 * pow(minutes, 3) - 1.759e-4 * pow(minutes, 2) + 9.255e-4 * minutes + 0.99951\n",
    "    elif nearest_modeled_duration == 4:\n",
    "        return -3.310e-10 * pow(minutes, 4) + 2.530e-7 * pow(minutes, 3) - 5.510e-5 * pow(minutes, 2) - 9.086e-4 * minutes + 0.99950\n",
    "    elif nearest_modeled_duration == 5:\n",
    "        return -2.950e-10 * pow(minutes, 4) + 2.320e-7 * pow(minutes, 3) - 5.550e-5 * pow(minutes, 2) + 4.490e-4 * minutes + 0.99300\n",
    "    elif nearest_modeled_duration == 6:\n",
    "        return -1.493e-10 * pow(minutes, 4) + 1.413e-7 * pow(minutes, 3) - 4.095e-5 * pow(minutes, 2) + 6.365e-4 * minutes + 0.99700\n",
    "    else:\n",
    "        raise Exception('Invalid!')\n",
    "    "
   ]
  },
  {
   "cell_type": "code",
   "execution_count": 6,
   "metadata": {},
   "outputs": [
    {
     "name": "stdout",
     "output_type": "stream",
     "text": [
      "This is the format of your plot grid:\n",
      "[ (1,1) x1,y1 ]\n",
      "[ (2,1) x2,y2 ]\n",
      "\n",
      "-0.993399874177\n",
      "-0.990321316659\n",
      "-0.990321316659\n"
     ]
    },
    {
     "data": {
      "text/html": [
       "<iframe id=\"igraph\" scrolling=\"no\" style=\"border:none;\" seamless=\"seamless\" src=\"https://plot.ly/~pschwamb/27.embed\" height=\"600px\" width=\"600px\"></iframe>"
      ],
      "text/plain": [
       "<plotly.tools.PlotlyDisplay object>"
      ]
     },
     "execution_count": 6,
     "metadata": {},
     "output_type": "execute_result"
    }
   ],
   "source": [
    "# New decay curve\n",
    "#\n",
    "tau = 0.9\n",
    "old_dia = 4\n",
    "new_dia = 6\n",
    "\n",
    "new_x = np.linspace(0,new_dia,num=new_dia*100)\n",
    "new_decay = [tau * (tau - (t + tau) * math.exp(-t/tau)) for t in new_x]\n",
    "new_decay = 1 - np.array(new_decay) / pow(tau,2)\n",
    "exp_model_name = \"exp model (tau=%d)\" % tau\n",
    "new_trace = Scatter(x=new_x, y=new_decay, name=exp_model_name + \" decay\")\n",
    "\n",
    "walsh_x = np.linspace(0,old_dia,old_dia*100)\n",
    "walsh_decay = np.array([walsh_percent_effect_remaining_at_time(t,4) for t in walsh_x])\n",
    "walsh_model_name = \"Walsh %d hour\" % old_dia\n",
    "walsh_trace = Scatter(x=walsh_x, y=walsh_decay, name=walsh_model_name + \" decay\")\n",
    "\n",
    "data = Data([new_trace,walsh_trace])\n",
    "\n",
    "fig = tools.make_subplots(rows=2, cols=1, subplot_titles=('Insulin On Board Decay', 'Insulin Activity'))\n",
    "\n",
    "fig['layout'].update(height=600, width=600)\n",
    "\n",
    "fig.append_trace(new_trace, 1, 1)\n",
    "fig.append_trace(walsh_trace, 1, 1)\n",
    "\n",
    "\n",
    "new_activity = np.gradient(new_decay)\n",
    "new_trace = Scatter(x=new_x, y=-new_activity, name=exp_model_name + \" activity\")\n",
    "\n",
    "# Scale activity so that total activity is equal \n",
    "new_total = new_activity.sum()\n",
    "walsh_activity = np.gradient(walsh_decay)\n",
    "walsh_total = walsh_activity.sum()\n",
    "print walsh_total\n",
    "print new_total\n",
    "scale = new_total / walsh_total\n",
    "print walsh_total * scale\n",
    "\n",
    "walsh_trace = Scatter(x=walsh_x * scale, y=-walsh_activity, name=walsh_model_name + \" activity\")\n",
    "\n",
    "fig.append_trace(new_trace, 2, 1)\n",
    "fig.append_trace(walsh_trace, 2, 1)\n",
    "\n",
    "py.iplot(fig, filename='make-subplots-multiple-with-titles')"
   ]
  }
 ],
 "metadata": {
  "kernelspec": {
   "display_name": "Python 2",
   "language": "python",
   "name": "python2"
  },
  "language_info": {
   "codemirror_mode": {
    "name": "ipython",
    "version": 2
   },
   "file_extension": ".py",
   "mimetype": "text/x-python",
   "name": "python",
   "nbconvert_exporter": "python",
   "pygments_lexer": "ipython2",
   "version": "2.7.13"
  }
 },
 "nbformat": 4,
 "nbformat_minor": 2
}
